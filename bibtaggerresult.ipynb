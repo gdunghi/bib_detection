{
 "cells": [
  {
   "cell_type": "code",
   "execution_count": 1,
   "id": "158522a7",
   "metadata": {},
   "outputs": [],
   "source": [
    "class BibTaggerResult(object):\n",
    "    def __init__(self):\n",
    "        self.faces = 0\n",
    "        self.bibs = 0\n",
    "        self.swt = 0\n",
    "        self.bib_numbers = []\n",
    "\n",
    "    def __str__(self):\n",
    "        return \"Result: {0} faces, {1} bibs, {2} SWT, {3} bib numbers: ({4})\".format(self.faces, self.bibs, self.swt,\n",
    "                                                                                     len(self.bib_numbers),\n",
    "                                                                                     self.bib_numbers)\n"
   ]
  },
  {
   "cell_type": "code",
   "execution_count": null,
   "id": "840d9e5f",
   "metadata": {},
   "outputs": [],
   "source": []
  }
 ],
 "metadata": {
  "kernelspec": {
   "display_name": "Python 3 (ipykernel)",
   "language": "python",
   "name": "python3"
  },
  "language_info": {
   "codemirror_mode": {
    "name": "ipython",
    "version": 3
   },
   "file_extension": ".py",
   "mimetype": "text/x-python",
   "name": "python",
   "nbconvert_exporter": "python",
   "pygments_lexer": "ipython3",
   "version": "3.9.1"
  }
 },
 "nbformat": 4,
 "nbformat_minor": 5
}
