{
 "cells": [
  {
   "cell_type": "code",
   "execution_count": 17,
   "metadata": {
    "collapsed": true
   },
   "outputs": [
    {
     "name": "stdout",
     "output_type": "stream",
     "text": [
      "1234567890\n",
      "\f\n"
     ]
    }
   ],
   "source": [
    "from PIL import Image\n",
    "\n",
    "from pytesseract import image_to_string\n",
    "\n",
    "#tesseract command line options: https://tesseract-ocr.googlecode.com/svn/trunk/doc/tesseract.1.html\n",
    "#image_to_string implementation/syntax: https://github.com/madmaze/pytesseract/blob/master/src/pytesseract.py\n",
    "def getOcr(filename):\n",
    "    #,config='-psm 10') option for single digit recognition\n",
    "    #return image_to_string(Image.open(filename),config=\"-psm 6\") #5\n",
    "    # return image_to_string(Image.open(filename)) #3\n",
    "    #return image_to_string(Image.open(filename),config=\"-psm 7\") #5\n",
    "    return image_to_string(Image.open(filename),config=\"--psm 8 digits\") #4\n",
    "    # return image_to_string(Image.open(filename),config=\"--psm 8\") #4\n",
    "\n",
    "# x = getOcr(\"/Users/witaya/Documents/KMITL/Linear/Aj. Jiraphat/bib_detection/photos/img.png\")\n",
    "# print(x)\n",
    "#brew install tesseract\n",
    "#!sudo apt install tesseract-ocr\n",
    "#!pip install pytesseract"
   ]
  },
  {
   "cell_type": "code",
   "execution_count": null,
   "outputs": [],
   "source": [],
   "metadata": {
    "collapsed": false,
    "pycharm": {
     "name": "#%%\n"
    }
   }
  }
 ],
 "metadata": {
  "kernelspec": {
   "display_name": "Python 3",
   "language": "python",
   "name": "python3"
  },
  "language_info": {
   "codemirror_mode": {
    "name": "ipython",
    "version": 2
   },
   "file_extension": ".py",
   "mimetype": "text/x-python",
   "name": "python",
   "nbconvert_exporter": "python",
   "pygments_lexer": "ipython2",
   "version": "2.7.6"
  }
 },
 "nbformat": 4,
 "nbformat_minor": 0
}