{
 "cells": [
  {
   "cell_type": "code",
   "execution_count": 15,
   "metadata": {},
   "outputs": [],
   "source": [
    "import numpy as np\n",
    "import scipy as sp\n",
    "import scipy.signal\n",
    "import cv2\n",
    "from cv2 import ORB as SIFT\n",
    "from matplotlib import pyplot as plt"
   ]
  },
  {
   "cell_type": "code",
   "execution_count": null,
   "metadata": {},
   "outputs": [],
   "source": [
    "#findMatchesBetweenImages\n",
    "\n",
    "image_1 = #first image\n",
    "image_2 = #image used to compare\n",
    "matches = None\n",
    "image_1_kp = None\n",
    "image_1_desc = None\n",
    "image_2_kp = None\n",
    "image_2_desc = None\n",
    "sift = SIFT()\n",
    "\n",
    "#1. Compute SIFT keypoints and descriptors for both images\n",
    "image_1_kp, image_1_desc = sift.detectAndCompute(image_1,None)\n",
    "image_2_kp, image_2_desc = sift.detectAndCompute(image_2,None)\n",
    "\n",
    "#2. Create a Brute Force Matcher, using the hamming distance (and set crossCheck to true).\n",
    "#create BFMatcher object\n",
    "bf = cv2.BFMatcher(cv2.NORM_HAMMING, crossCheck=True)\n",
    "\n",
    "#3. Compute the matches between both images.\n",
    "#match descriptors\n",
    "matches = bf.match(image_1_desc,image_2_desc)\n",
    "\n",
    "#4. Sort the matches based on distance so you get the best matches.\n",
    "matches = sorted(matches, key=lambda x: x.distance)\n",
    "\n",
    "#5. Return the image_1 keypoints, image_2 keypoints, and the top 10 matches in a list.\n",
    "\n",
    "# return image_1_kp, image_2_kp, matches[:10]"
   ]
  },
  {
   "cell_type": "code",
   "execution_count": null,
   "metadata": {},
   "outputs": [],
   "source": [
    "# drawMatches\n",
    "image_1_keypoints = [] #The image_1 keypoints, the elements are of type cv2.KeyPoint.\n",
    "image_2_keypoints = [] #The image_2 keypoints, the elements are of type cv2.KeyPoint.\n",
    "\n",
    "num_channels = 1\n",
    "if len(image_1.shape) == 3:\n",
    "    num_channels = image_1.shape[2]\n",
    "# Separation between images.\n",
    "margin = 10\n",
    "# Create an array that will fit both images (with a margin of 10 to separate\n",
    "# the two images)\n",
    "joined_image = np.zeros((max(image_1.shape[0], image_2.shape[0]),\n",
    "                        image_1.shape[1] + image_2.shape[1] + margin,\n",
    "                        3))\n",
    "if num_channels == 1:\n",
    "    for channel_idx in range(3):\n",
    "        joined_image[:image_1.shape[0],\n",
    "                    :image_1.shape[1],\n",
    "                    channel_idx] = image_1\n",
    "        joined_image[:image_2.shape[0],\n",
    "                    image_1.shape[1] + margin:,\n",
    "                    channel_idx] = image_2\n",
    "else:\n",
    "    joined_image[:image_1.shape[0], :image_1.shape[1]] = image_1\n",
    "    joined_image[:image_2.shape[0], image_1.shape[1] + margin:] = image_2\n",
    "\n",
    "for match in matches:\n",
    "    image_1_point = (int(image_1_keypoints[match.queryIdx].pt[0]),\n",
    "                        int(image_1_keypoints[match.queryIdx].pt[1]))\n",
    "    image_2_point = (int(image_2_keypoints[match.trainIdx].pt[0] + \\\n",
    "                            image_1.shape[1] + margin),\n",
    "                    int(image_2_keypoints[match.trainIdx].pt[1]))\n",
    "\n",
    "    cv2.circle(joined_image, image_1_point, 5, (0, 0, 255), thickness = -1)\n",
    "    cv2.circle(joined_image, image_2_point, 5, (0, 255, 0), thickness = -1)\n",
    "    cv2.line(joined_image, image_1_point, image_2_point, (255, 0, 0), \\\n",
    "                thickness = 3)\n",
    "# return joined_image"
   ]
  }
 ],
 "metadata": {
  "language_info": {
   "name": "python"
  },
  "orig_nbformat": 4
 },
 "nbformat": 4,
 "nbformat_minor": 2
}
