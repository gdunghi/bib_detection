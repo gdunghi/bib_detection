{
 "cells": [
  {
   "cell_type": "code",
   "execution_count": 1,
   "id": "48e79923",
   "metadata": {},
   "outputs": [],
   "source": [
    "import os\n",
    "\n",
    "import cv2\n",
    "import numpy as np\n",
    "\n"
   ]
  },
  {
   "cell_type": "code",
   "execution_count": 9,
   "id": "1f77467b",
   "metadata": {},
   "outputs": [],
   "source": [
    "def findfaces(image):\n",
    "    cascPath = os.path.join(\"haarcascades\", \"haarcascade_frontalface_default.xml\")\n",
    "\n",
    "    # Create the haar cascade\n",
    "    faceCascade = cv2.CascadeClassifier(cascPath)\n",
    "\n",
    "    # Read the image\n",
    "    height, width, depth = image.shape\n",
    "    scale = 1\n",
    "    if (width > 1024):\n",
    "        scale = 1024.0 / width\n",
    "        image = cv2.resize(image, None, fx=scale, fy=scale)\n",
    "    gray = cv2.cvtColor(image, cv2.COLOR_BGR2GRAY)\n",
    "\n",
    "    # Detect faces in the image\n",
    "    faces = faceCascade.detectMultiScale(\n",
    "        gray,\n",
    "        scaleFactor=1.05,\n",
    "        minNeighbors=5,\n",
    "        minSize=(30, 30),\n",
    "    )\n",
    "\n",
    "    return [scale_rect(face, 1 / scale) for face in faces]"
   ]
  },
  {
   "cell_type": "code",
   "execution_count": 12,
   "id": "faddb34e",
   "metadata": {},
   "outputs": [],
   "source": [
    "def scale_rect(rect, scale):\n",
    "    return [int(value*scale) for value in rect]"
   ]
  },
  {
   "cell_type": "code",
   "execution_count": 13,
   "id": "50d995b0",
   "metadata": {},
   "outputs": [],
   "source": [
    "def findbodies(image, faces):\n",
    "    bodies = np.zeros_like(faces)\n",
    "    bodiesindex = 0\n",
    "\n",
    "    # for each face, draw a body\n",
    "    for (x, y, facewidth, faceheight) in faces:\n",
    "        # 3*faceheight, 7/3 * facewidth, .5*faceheight below the face.\n",
    "        bodyheight = 3 * faceheight\n",
    "        bodywidth = 7 / 3 * facewidth\n",
    "        y_body = y + faceheight + .5 * faceheight\n",
    "        x_body = x + .5 * facewidth - .5 * bodywidth\n",
    "\n",
    "        bodies[bodiesindex] = (x_body, y_body, bodywidth, bodyheight)\n",
    "        bodiesindex = bodiesindex + 1\n",
    "\n",
    "        # cv2.rectangle(image, (x_body, y_body), (x_body+bodywidth, y_body+bodyheight), (0, 255, 0), 2)\n",
    "\n",
    "    return bodies\n"
   ]
  },
  {
   "cell_type": "code",
   "execution_count": 14,
   "id": "7fa981c6",
   "metadata": {},
   "outputs": [],
   "source": [
    "def getbodyboxes(image):\n",
    "    # in: numpy image\n",
    "    # out: list [(x,y,width,height)]\n",
    "\n",
    "    faces = findfaces(image)\n",
    "\n",
    "    bodyrectangles = findbodies(image, faces)\n",
    "\n",
    "    return bodyrectangles\n",
    "\n"
   ]
  },
  {
   "cell_type": "code",
   "execution_count": 16,
   "id": "f471f3f1",
   "metadata": {},
   "outputs": [
    {
     "name": "stdout",
     "output_type": "stream",
     "text": [
      "[[307 109  91 117]]\n"
     ]
    }
   ],
   "source": [
    "img = cv2.imread('./photos/Frosty5k/1.jpg')\n",
    "\n",
    "body = getbodyboxes(img)\n",
    "print(body)"
   ]
  },
  {
   "cell_type": "code",
   "execution_count": null,
   "id": "821f87cd",
   "metadata": {},
   "outputs": [],
   "source": []
  },
  {
   "cell_type": "code",
   "execution_count": null,
   "id": "1efb0e63",
   "metadata": {},
   "outputs": [],
   "source": []
  }
 ],
 "metadata": {
  "kernelspec": {
   "display_name": "Python 3 (ipykernel)",
   "language": "python",
   "name": "python3"
  },
  "language_info": {
   "codemirror_mode": {
    "name": "ipython",
    "version": 3
   },
   "file_extension": ".py",
   "mimetype": "text/x-python",
   "name": "python",
   "nbconvert_exporter": "python",
   "pygments_lexer": "ipython3",
   "version": "3.9.1"
  }
 },
 "nbformat": 4,
 "nbformat_minor": 5
}
