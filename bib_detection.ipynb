{
 "cells": [
  {
   "cell_type": "code",
   "execution_count": 1,
   "id": "43db3414",
   "metadata": {},
   "outputs": [
    {
     "name": "stdout",
     "output_type": "stream",
     "text": [
      "Searching for image folders in /Users/knjean/bib_detection/photos folder\n"
     ]
    }
   ],
   "source": [
    "import os\n",
    "import cv2\n",
    "\n",
    "\n",
    "sourcefolder = os.path.abspath(os.path.join(os.curdir, 'photos'))\n",
    "outfolder = os.path.abspath(os.path.join(os.curdir, 'photos-out'))\n",
    "\n",
    "# Ensure that the directory that holds our output directories exists...\n",
    "if not os.path.exists(outfolder):\n",
    "    os.mkdir(outfolder)\n",
    "\n",
    "print ('Searching for image folders in {} folder'.format(sourcefolder))\n"
   ]
  },
  {
   "cell_type": "code",
   "execution_count": 4,
   "id": "b8b97f70",
   "metadata": {},
   "outputs": [],
   "source": [
    "class BibTaggerResult(object):\n",
    "    def __init__(self):\n",
    "        self.faces = 0\n",
    "        self.bibs = 0\n",
    "        self.swt  = 0\n",
    "        self.bib_numbers = []\n",
    "\n",
    "\n",
    "    def __str__(self):\n",
    "        return \"Result: {0} faces, {1} bibs, {2} SWT, {3} bib numbers: ({4})\".format(self.faces,self.bibs,self.swt, len(self.bib_numbers), self.bib_numbers)\n"
   ]
  },
  {
   "cell_type": "code",
   "execution_count": 3,
   "id": "6bdd4dd4",
   "metadata": {},
   "outputs": [
    {
     "name": "stdout",
     "output_type": "stream",
     "text": [
      "Result: 0 faces, 0 bibs, 0 SWT, 0 bib numbers: ([])\n"
     ]
    }
   ],
   "source": [
    "a = BibTaggerResult()\n",
    "print(a)"
   ]
  },
  {
   "cell_type": "code",
   "execution_count": null,
   "id": "0926eb87",
   "metadata": {},
   "outputs": [],
   "source": []
  }
 ],
 "metadata": {
  "kernelspec": {
   "display_name": "Python 3 (ipykernel)",
   "language": "python",
   "name": "python3"
  },
  "language_info": {
   "codemirror_mode": {
    "name": "ipython",
    "version": 3
   },
   "file_extension": ".py",
   "mimetype": "text/x-python",
   "name": "python",
   "nbconvert_exporter": "python",
   "pygments_lexer": "ipython3",
   "version": "3.9.7"
  }
 },
 "nbformat": 4,
 "nbformat_minor": 5
}
