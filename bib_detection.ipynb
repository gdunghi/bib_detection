{
 "cells": [
  {
   "cell_type": "code",
   "execution_count": 2,
   "id": "43db3414",
   "metadata": {},
   "outputs": [
    {
     "name": "stdout",
     "output_type": "stream",
     "text": [
      "Searching for image folders in /Users/knjean/bib_detection/photos folder\n"
     ]
    }
   ],
   "source": [
    "import os\n",
    "import cv2\n",
    "\n",
    "\n",
    "sourcefolder = os.path.abspath(os.path.join(os.curdir, 'photos'))\n",
    "outfolder = os.path.abspath(os.path.join(os.curdir, 'photos-out'))\n",
    "\n",
    "# Ensure that the directory that holds our output directories exists...\n",
    "if not os.path.exists(outfolder):\n",
    "    os.mkdir(outfolder)\n",
    "\n",
    "print ('Searching for image folders in {} folder'.format(sourcefolder))\n"
   ]
  },
  {
   "cell_type": "code",
   "execution_count": null,
   "id": "b8b97f70",
   "metadata": {},
   "outputs": [],
   "source": []
  },
  {
   "cell_type": "code",
   "execution_count": null,
   "id": "6bdd4dd4",
   "metadata": {},
   "outputs": [],
   "source": []
  }
 ],
 "metadata": {
  "kernelspec": {
   "display_name": "Python 3 (ipykernel)",
   "language": "python",
   "name": "python3"
  },
  "language_info": {
   "codemirror_mode": {
    "name": "ipython",
    "version": 3
   },
   "file_extension": ".py",
   "mimetype": "text/x-python",
   "name": "python",
   "nbconvert_exporter": "python",
   "pygments_lexer": "ipython3",
   "version": "3.9.7"
  }
 },
 "nbformat": 4,
 "nbformat_minor": 5
}
